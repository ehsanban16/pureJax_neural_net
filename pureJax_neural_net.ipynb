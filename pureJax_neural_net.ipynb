{
 "cells": [
  {
   "cell_type": "markdown",
   "id": "26f909c7",
   "metadata": {},
   "source": [
    "# Neural network in pure JAX\n",
    "\n",
    "<span style=\"font-size: 90%\">\n",
    "This notebook:\n",
    "\n",
    "1. generates input data `xs` and target outputs `y0s` based on a cubic polynomial.  \n",
    "2. It defines a neural network (`network_forward`) with parameters initialized for a 1-10-10-1 architecture.  \n",
    "3. The loss function (`loss_fn`) computes mean squared error between predictions and targets.  \n",
    "4. Training is performed using gradient descent (`update_params` and `train_network`).  \n",
    "5. Finally, it plots the original data and the neural network's predictions after training.\n",
    "\n",
    "</span>"
   ]
  },
  {
   "cell_type": "code",
   "execution_count": 36,
   "id": "6646c792",
   "metadata": {},
   "outputs": [],
   "source": [
    "import jax.numpy as jnp\n",
    "xs = jnp.arange(-1.0,1.0,2/20)\n",
    "y0s=2*xs+1+2*xs**2+2*xs**3"
   ]
  },
  {
   "cell_type": "code",
   "execution_count": 19,
   "id": "25ef8840",
   "metadata": {},
   "outputs": [
    {
     "data": {
      "text/plain": [
       "[<matplotlib.lines.Line2D at 0x113ba70d0>]"
      ]
     },
     "execution_count": 19,
     "metadata": {},
     "output_type": "execute_result"
    },
    {
     "data": {
      "image/png": "[encoded data removed]",
      "text/plain": [
       "<Figure size 640x480 with 1 Axes>"
      ]
     },
     "metadata": {},
     "output_type": "display_data"
    }
   ],
   "source": [
    "import matplotlib.pyplot as plt\n",
    "plt.plot(xs, y0s, marker='o', linestyle='None')"
   ]
  },
  {
   "cell_type": "markdown",
   "id": "3b0bf2d9",
   "metadata": {},
   "source": [
    "Multilayer perceptron:"
   ]
  },
  {
   "cell_type": "code",
   "execution_count": 20,
   "id": "58e49d70",
   "metadata": {},
   "outputs": [],
   "source": [
    "import jax\n",
    "@jax.jit\n",
    "def network_forward(xs, params):\n",
    "    for i, [weigths, biases] in enumerate(params):\n",
    "        xs = jnp.dot(xs, weigths) + biases\n",
    "        # Apply activation except for the last layer\n",
    "        if i < len(params) - 1:\n",
    "            xs = jnp.tanh(xs)\n",
    "        else:\n",
    "            xs = xs\n",
    "    return xs\n"
   ]
  },
  {
   "cell_type": "markdown",
   "id": "fc4ea093",
   "metadata": {},
   "source": [
    "Parameter initialization using jax pseudorandom number generator"
   ]
  },
  {
   "cell_type": "code",
   "execution_count": 21,
   "id": "8d3cfe40",
   "metadata": {},
   "outputs": [],
   "source": [
    "import jax.random as random\n",
    "\n",
    "key = random.PRNGKey(0)\n",
    "\n",
    "def init_layer_params(input_size, output_size, key):\n",
    "    k1, k2 = random.split(key)\n",
    "    weights = random.normal(k1, (input_size, output_size))\n",
    "    biases = random.normal(k2, (output_size,))\n",
    "    return weights, biases\n",
    "\n",
    "layer_sizes = [1, 10, 10, 1]\n",
    "keys = random.split(key, num=len(layer_sizes)-1)\n",
    "params = [init_layer_params(m, n, k) for m, n, k in zip(layer_sizes[:-1], layer_sizes[1:], keys)]"
   ]
  },
  {
   "cell_type": "markdown",
   "id": "4ab3c904",
   "metadata": {},
   "source": [
    "Loss function, just in time compiled:"
   ]
  },
  {
   "cell_type": "code",
   "execution_count": 22,
   "id": "f85bfe41",
   "metadata": {},
   "outputs": [
    {
     "name": "stdout",
     "output_type": "stream",
     "text": [
      "8.352277\n"
     ]
    }
   ],
   "source": [
    "@jax.jit\n",
    "def loss_fn(params, xs, y0s):\n",
    "    ys_pred = network_forward(xs[:, None], params).flatten()\n",
    "    return jnp.mean((y0s - ys_pred) ** 2)\n",
    "print(loss_fn(params, xs, y0s))"
   ]
  },
  {
   "cell_type": "markdown",
   "id": "1245dc67",
   "metadata": {},
   "source": [
    "Subroutine to update the parameters:"
   ]
  },
  {
   "cell_type": "code",
   "execution_count": 38,
   "id": "5bbe1834",
   "metadata": {},
   "outputs": [],
   "source": [
    "@jax.jit\n",
    "def update_params(params, xs, y0s, learning_rate=0.01):\n",
    "    grads = jax.grad(loss_fn)(params, xs, y0s)\n",
    "    new_params = []\n",
    "    for p, g in zip(params, grads):\n",
    "        new_p = (p[0] - learning_rate * g[0], p[1] - learning_rate * g[1])\n",
    "        new_params.append(new_p)\n",
    "    return new_params"
   ]
  },
  {
   "cell_type": "markdown",
   "id": "0dc97248",
   "metadata": {},
   "source": [
    "Train the network using gradient decent:"
   ]
  },
  {
   "cell_type": "code",
   "execution_count": 25,
   "id": "3f88f85a",
   "metadata": {},
   "outputs": [],
   "source": [
    "@jax.jit\n",
    "def train_network(params, xs, y0s, num_iterations=1000, learning_rate=0.01):\n",
    "    def body_fun(i, val):\n",
    "        params = val\n",
    "        params = update_params(params, xs, y0s, learning_rate)\n",
    "        return params\n",
    "\n",
    "    params = jax.lax.fori_loop(0, num_iterations, body_fun, params)\n",
    "    return params\n",
    "params = train_network(params, xs, y0s, num_iterations=1000, learning_rate=0.04)"
   ]
  },
  {
   "cell_type": "markdown",
   "id": "5107c2d6",
   "metadata": {},
   "source": [
    "Plot fit curve overlaid with input data points:"
   ]
  },
  {
   "cell_type": "code",
   "execution_count": 26,
   "id": "548db4d9",
   "metadata": {},
   "outputs": [
    {
     "data": {
      "text/plain": [
       "[<matplotlib.lines.Line2D at 0x1157205e0>]"
      ]
     },
     "execution_count": 26,
     "metadata": {},
     "output_type": "execute_result"
    },
    {
     "data": {
      "image/png": "[encoded data removed]",
      "text/plain": [
       "<Figure size 640x480 with 1 Axes>"
      ]
     },
     "metadata": {},
     "output_type": "display_data"
    }
   ],
   "source": [
    "plt.plot(xs, y0s, marker='o', linestyle='None')\n",
    "xs2 = jnp.linspace(-1,1,50)\n",
    "plt.plot(xs2, network_forward(xs2[:, None], params).flatten(), linestyle='-', color='black', marker=None)\n"
   ]
  }
 ],
 "metadata": {
  "kernelspec": {
   "display_name": "jax",
   "language": "python",
   "name": "python3"
  },
  "language_info": {
   "codemirror_mode": {
    "name": "ipython",
    "version": 3
   },
   "file_extension": ".py",
   "mimetype": "text/x-python",
   "name": "python",
   "nbconvert_exporter": "python",
   "pygments_lexer": "ipython3",
   "version": "3.9.22"
  }
 },
 "nbformat": 4,
 "nbformat_minor": 5
}
